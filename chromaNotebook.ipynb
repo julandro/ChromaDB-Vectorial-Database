{
 "cells": [
  {
   "cell_type": "markdown",
   "metadata": {},
   "source": [
    "## Instalamos la base de datos Vectorial, en este caso: ChromaDB"
   ]
  },
  {
   "cell_type": "code",
   "execution_count": null,
   "metadata": {},
   "outputs": [],
   "source": [
    "pip install chromadb"
   ]
  },
  {
   "cell_type": "markdown",
   "metadata": {},
   "source": [
    "### Importación y primeros pasos\n",
    "\n",
    "Importamos Chroma y nos lo usamos con persistencia de datos con `PersistentClient`\n",
    "\n",
    "Luego creamos su colección `Carros`"
   ]
  },
  {
   "cell_type": "code",
   "execution_count": null,
   "metadata": {},
   "outputs": [],
   "source": [
    "import chromadb\n",
    "\n",
    "client = chromadb.PersistentClient(path=\"chromaDB\")\n",
    "\n",
    "collection = client.get_or_create_collection(\"Carros\")"
   ]
  },
  {
   "cell_type": "markdown",
   "metadata": {},
   "source": [
    "Creamos algunas variables con texto y las agregamos a la colección.\n",
    "Se le agrega en el metadata datos como la marca y el precio para facilitar la busqueda"
   ]
  },
  {
   "cell_type": "code",
   "execution_count": null,
   "metadata": {},
   "outputs": [],
   "source": [
    "carro1 = \"Mazda MX-5: Motor de 2.0 litros, 181 caballos de fuerza, tracción trasera. Precio aproximado: $132.000.000 COP. \"\n",
    "carro2 = \"Ford Mustang GT Premium: Motor V8 de 5.0 litros, 460 caballos de fuerza, aceleración de 0 a 100 km/h en 3.9 segundos. Precio aproximado: $210.000.000 COP. \"\n",
    "carro3 = \"BMW Z4 M40i Roadster: Motor de 2.0 litros, 340 caballos de fuerza, velocidad máxima de 240 km/h. Precio aproximado: $299.900.000 COP. \"\n",
    "carro4 = \"Porsche 911 Carrera S: Motor bóxer biturbo de 3.0 litros y 6 cilindros, 450 caballos de fuerza, velocidad máxima de 308 km/h. Precio aproximado: $625.000.000 COP. \"\n",
    "carro5 = \"Chevrolet Camaro SS: Motor V8 de 6.2 litros, 455 caballos de fuerza, precio desde $200.000.000 COP. \"\n",
    "\n",
    "collection.add(\n",
    "    documents=[carro1, carro2, carro3, carro4, carro5],\n",
    "    metadatas=[{\"marca\": \"Mazda\", \"precio\": 132000000}, {\"marca\": \"Ford\", \"precio\": 210000000}, {\"marca\": \"BMW\", \"precio\": 299900000}, {\"marca\": \"Porshe\", \"precio\": 625000000}, {\"marca\": \"Chevrolet\", \"precio\": 200000000}],\n",
    "    ids=[\"id1\", \"id2\", \"id3\", \"id4\", \"id5\"]\n",
    ")"
   ]
  },
  {
   "cell_type": "markdown",
   "metadata": {},
   "source": [
    "### Realizamos algunas Querys"
   ]
  },
  {
   "cell_type": "code",
   "execution_count": null,
   "metadata": {},
   "outputs": [],
   "source": [
    "collection.query(query_texts= \"Motor de 2.0 litros\", n_results=2)"
   ]
  },
  {
   "cell_type": "code",
   "execution_count": null,
   "metadata": {},
   "outputs": [],
   "source": [
    "collection.get(where={'precio': {'$lte': 200000000}})"
   ]
  }
 ],
 "metadata": {
  "kernelspec": {
   "display_name": "Python 3",
   "language": "python",
   "name": "python3"
  },
  "language_info": {
   "codemirror_mode": {
    "name": "ipython",
    "version": 3
   },
   "file_extension": ".py",
   "mimetype": "text/x-python",
   "name": "python",
   "nbconvert_exporter": "python",
   "pygments_lexer": "ipython3",
   "version": "3.11.9"
  }
 },
 "nbformat": 4,
 "nbformat_minor": 2
}
